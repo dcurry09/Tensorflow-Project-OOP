{
 "cells": [
  {
   "cell_type": "markdown",
   "metadata": {},
   "source": [
    "# Working with Generators and Batches\n",
    "Import a test dataset and test a batch generator"
   ]
  },
  {
   "cell_type": "code",
   "execution_count": 2,
   "metadata": {},
   "outputs": [
    {
     "name": "stderr",
     "output_type": "stream",
     "text": [
      "Using TensorFlow backend.\n"
     ]
    }
   ],
   "source": [
    "from keras.datasets import imdb\n",
    "from sklearn.preprocessing import MinMaxScaler\n",
    "import matplotlib.pyplot as plt\n",
    "import keras as keras\n",
    "import os\n",
    "import pandas as pd\n",
    "import numpy as np"
   ]
  },
  {
   "cell_type": "code",
   "execution_count": 7,
   "metadata": {},
   "outputs": [],
   "source": [
    "# Import the IMDB text dataset\n",
    "# num of words in corpus to use\n",
    "top_words = 5000\n",
    "(train_data, train_labels), (test_data, test_labels) = imdb.load_data(num_words = top_words)"
   ]
  },
  {
   "cell_type": "code",
   "execution_count": 10,
   "metadata": {},
   "outputs": [],
   "source": [
    "# truncate and pad input sequences\n",
    "max_review_length = 500\n",
    "train_data = keras.preprocessing.sequence.pad_sequences(train_data, maxlen = max_review_length)\n",
    "test_data  = keras.preprocessing.sequence.pad_sequences(test_data, maxlen = max_review_length)\n",
    "\n",
    "#resize the labels\n",
    "train_labels = np.resize(train_labels, (len(train_labels), 1))"
   ]
  },
  {
   "cell_type": "code",
   "execution_count": 37,
   "metadata": {},
   "outputs": [],
   "source": [
    "# define the batch size\n",
    "batchsize = 5000"
   ]
  },
  {
   "cell_type": "markdown",
   "metadata": {},
   "source": [
    "### Now time to make a batch generator"
   ]
  },
  {
   "cell_type": "code",
   "execution_count": 13,
   "metadata": {},
   "outputs": [
    {
     "name": "stdout",
     "output_type": "stream",
     "text": [
      "Input data shape: (25000, 500)\n"
     ]
    }
   ],
   "source": [
    "print('Input data shape:', train_data.shape)"
   ]
  },
  {
   "cell_type": "code",
   "execution_count": 42,
   "metadata": {},
   "outputs": [],
   "source": [
    "def next_batch(data, batchsize):\n",
    "    \"\"\"\n",
    "    Create generator with yield function.\n",
    "\n",
    "    :param batch size\n",
    "    :returns data from generator of size batch\n",
    "    :raises none\n",
    "    \"\"\"\n",
    "    num_samples = len(data)\n",
    "    idx = np.random.permutation(num_samples)\n",
    "    batches = range(0, num_samples - batchsize + 1, batchsize)    \n",
    "    for batch in batches:\n",
    "        data_batch = data[idx[batch:batch + batchsize]]\n",
    "        yield data_batch"
   ]
  },
  {
   "cell_type": "code",
   "execution_count": 43,
   "metadata": {},
   "outputs": [],
   "source": [
    "batch_gen = next_batch(train_data, batchsize)"
   ]
  },
  {
   "cell_type": "code",
   "execution_count": 45,
   "metadata": {},
   "outputs": [
    {
     "name": "stdout",
     "output_type": "stream",
     "text": [
      "Batch #  0 : (5000, 500)\n",
      "[[   0    0    0 ...   94 1215 2577]\n",
      " [   0    0    0 ...    2 2299  489]\n",
      " [   0    0    0 ...   33  263  902]\n",
      " [   0    0    0 ...   38    2   40]\n",
      " [   0    0    0 ...   20  520   72]]\n",
      "Batch #  1 : (5000, 500)\n",
      "[[  0   0   0 ...  10 342 158]\n",
      " [  0   0   0 ... 528  30 685]\n",
      " [  0   0   0 ... 587   4 277]\n",
      " [742   6 185 ... 513  15   9]\n",
      " [  0   0   0 ...  19  49   2]]\n",
      "Batch #  2 : (5000, 500)\n",
      "[[   0    0    0 ...  158  158  381]\n",
      " [   0    0    0 ...  378    7 3596]\n",
      " [   0    0    0 ...   19  129  223]\n",
      " [   0    0    0 ...  118    6 1542]\n",
      " [   0    0    0 ...   46    7  158]]\n",
      "Batch #  3 : (5000, 500)\n",
      "[[   0    0    0 ...  157    7 1342]\n",
      " [   0    0    0 ...   58   11    2]\n",
      " [   0    0    0 ...   78  116  151]\n",
      " [   0    0    0 ...  796 1150 1479]\n",
      " [   0    0    0 ...    2 1830  750]]\n",
      "Batch #  4 : (5000, 500)\n",
      "[[  0   0   0 ... 207 126 110]\n",
      " [  0   0   0 ...   4 226  20]\n",
      " [  0   0   0 ...   2   2   2]\n",
      " [  0   0   0 ...  33  14  31]\n",
      " [  0   0   0 ...  30  66   2]]\n"
     ]
    }
   ],
   "source": [
    "for i,data in enumerate(batch_gen):\n",
    "    print('Batch # ', i, ':',data.shape)\n",
    "    print(data[:5])"
   ]
  },
  {
   "cell_type": "code",
   "execution_count": null,
   "metadata": {},
   "outputs": [],
   "source": []
  }
 ],
 "metadata": {
  "kernelspec": {
   "display_name": "Python 3",
   "language": "python",
   "name": "python3"
  },
  "language_info": {
   "codemirror_mode": {
    "name": "ipython",
    "version": 3
   },
   "file_extension": ".py",
   "mimetype": "text/x-python",
   "name": "python",
   "nbconvert_exporter": "python",
   "pygments_lexer": "ipython3",
   "version": "3.5.2"
  }
 },
 "nbformat": 4,
 "nbformat_minor": 2
}
